{
 "cells": [
  {
   "cell_type": "code",
   "execution_count": 97,
   "id": "20f6d18d",
   "metadata": {},
   "outputs": [],
   "source": [
    "import pandas as pd\n",
    "import numpy as np\n",
    "import matplotlib.pyplot as plt\n",
    "import seaborn as sns\n",
    "import os"
   ]
  },
  {
   "cell_type": "code",
   "execution_count": 2,
   "id": "9bdaf5a9",
   "metadata": {},
   "outputs": [],
   "source": [
    "match_df = pd.read_csv('IPL_dataset/matches.csv')\n",
    "deliveries_df = pd.read_csv('IPL_dataset/deliveries.csv')\n",
    "ras_df = pd.read_csv('IPL_dataset/most_runs_average_strikerate.csv')"
   ]
  },
  {
   "cell_type": "code",
   "execution_count": 66,
   "id": "4e99d476",
   "metadata": {},
   "outputs": [],
   "source": [
    "six_df = deliveries_df.loc[(deliveries_df['total_runs']==6) & (deliveries_df['extra_runs']==0)]\n",
    "six_main_df = six_df.drop(['is_super_over', 'wide_runs', 'bye_runs', 'legbye_runs', 'noball_runs', 'penalty_runs', 'player_dismissed', 'dismissal_kind', 'fielder', 'extra_runs', 'batsman_runs'], 1)\n"
   ]
  },
  {
   "cell_type": "markdown",
   "id": "0313093d",
   "metadata": {},
   "source": [
    "# MVP Batsman:\n",
    "\n",
    "Checking for batsman with consistency in T20 format <br>\n",
    "that is average greater than 30 and strike rate greater than 130"
   ]
  },
  {
   "cell_type": "code",
   "execution_count": 4,
   "id": "42750c9e",
   "metadata": {},
   "outputs": [],
   "source": [
    "mvp_df = ras_df.loc[(ras_df['average']>=30) & (ras_df['strikerate']>=130)]"
   ]
  },
  {
   "cell_type": "code",
   "execution_count": 102,
   "id": "1a6ff474",
   "metadata": {},
   "outputs": [
    {
     "data": {
      "text/html": [
       "<div>\n",
       "<style scoped>\n",
       "    .dataframe tbody tr th:only-of-type {\n",
       "        vertical-align: middle;\n",
       "    }\n",
       "\n",
       "    .dataframe tbody tr th {\n",
       "        vertical-align: top;\n",
       "    }\n",
       "\n",
       "    .dataframe thead th {\n",
       "        text-align: right;\n",
       "    }\n",
       "</style>\n",
       "<table border=\"1\" class=\"dataframe\">\n",
       "  <thead>\n",
       "    <tr style=\"text-align: right;\">\n",
       "      <th></th>\n",
       "      <th>batsman</th>\n",
       "      <th>total_runs</th>\n",
       "      <th>out</th>\n",
       "      <th>numberofballs</th>\n",
       "      <th>average</th>\n",
       "      <th>strikerate</th>\n",
       "    </tr>\n",
       "  </thead>\n",
       "  <tbody>\n",
       "    <tr>\n",
       "      <th>0</th>\n",
       "      <td>V Kohli</td>\n",
       "      <td>5426</td>\n",
       "      <td>152</td>\n",
       "      <td>4111</td>\n",
       "      <td>35.697368</td>\n",
       "      <td>131.987351</td>\n",
       "    </tr>\n",
       "    <tr>\n",
       "      <th>1</th>\n",
       "      <td>SK Raina</td>\n",
       "      <td>5386</td>\n",
       "      <td>160</td>\n",
       "      <td>3916</td>\n",
       "      <td>33.662500</td>\n",
       "      <td>137.538304</td>\n",
       "    </tr>\n",
       "    <tr>\n",
       "      <th>2</th>\n",
       "      <td>RG Sharma</td>\n",
       "      <td>4902</td>\n",
       "      <td>161</td>\n",
       "      <td>3742</td>\n",
       "      <td>30.447205</td>\n",
       "      <td>130.999466</td>\n",
       "    </tr>\n",
       "    <tr>\n",
       "      <th>3</th>\n",
       "      <td>DA Warner</td>\n",
       "      <td>4717</td>\n",
       "      <td>114</td>\n",
       "      <td>3292</td>\n",
       "      <td>41.377193</td>\n",
       "      <td>143.286756</td>\n",
       "    </tr>\n",
       "    <tr>\n",
       "      <th>5</th>\n",
       "      <td>CH Gayle</td>\n",
       "      <td>4525</td>\n",
       "      <td>110</td>\n",
       "      <td>2972</td>\n",
       "      <td>41.136364</td>\n",
       "      <td>152.254374</td>\n",
       "    </tr>\n",
       "  </tbody>\n",
       "</table>\n",
       "</div>"
      ],
      "text/plain": [
       "     batsman  total_runs  out  numberofballs    average  strikerate\n",
       "0    V Kohli        5426  152           4111  35.697368  131.987351\n",
       "1   SK Raina        5386  160           3916  33.662500  137.538304\n",
       "2  RG Sharma        4902  161           3742  30.447205  130.999466\n",
       "3  DA Warner        4717  114           3292  41.377193  143.286756\n",
       "5   CH Gayle        4525  110           2972  41.136364  152.254374"
      ]
     },
     "execution_count": 102,
     "metadata": {},
     "output_type": "execute_result"
    }
   ],
   "source": [
    "mvp_df.head()"
   ]
  },
  {
   "cell_type": "markdown",
   "id": "4f227b58",
   "metadata": {},
   "source": [
    "# Impact Player\n",
    "Checking for player with highest sr and descent avg for respectable amount of matches"
   ]
  },
  {
   "cell_type": "code",
   "execution_count": 6,
   "id": "db79cdab",
   "metadata": {},
   "outputs": [
    {
     "data": {
      "text/html": [
       "<div>\n",
       "<style scoped>\n",
       "    .dataframe tbody tr th:only-of-type {\n",
       "        vertical-align: middle;\n",
       "    }\n",
       "\n",
       "    .dataframe tbody tr th {\n",
       "        vertical-align: top;\n",
       "    }\n",
       "\n",
       "    .dataframe thead th {\n",
       "        text-align: right;\n",
       "    }\n",
       "</style>\n",
       "<table border=\"1\" class=\"dataframe\">\n",
       "  <thead>\n",
       "    <tr style=\"text-align: right;\">\n",
       "      <th></th>\n",
       "      <th>batsman</th>\n",
       "      <th>total_runs</th>\n",
       "      <th>out</th>\n",
       "      <th>numberofballs</th>\n",
       "      <th>average</th>\n",
       "      <th>strikerate</th>\n",
       "    </tr>\n",
       "  </thead>\n",
       "  <tbody>\n",
       "    <tr>\n",
       "      <th>49</th>\n",
       "      <td>AD Russell</td>\n",
       "      <td>1415</td>\n",
       "      <td>41</td>\n",
       "      <td>752</td>\n",
       "      <td>34.512195</td>\n",
       "      <td>188.164894</td>\n",
       "    </tr>\n",
       "    <tr>\n",
       "      <th>38</th>\n",
       "      <td>RR Pant</td>\n",
       "      <td>1767</td>\n",
       "      <td>49</td>\n",
       "      <td>1071</td>\n",
       "      <td>36.061224</td>\n",
       "      <td>164.985994</td>\n",
       "    </tr>\n",
       "    <tr>\n",
       "      <th>103</th>\n",
       "      <td>CH Morris</td>\n",
       "      <td>519</td>\n",
       "      <td>20</td>\n",
       "      <td>327</td>\n",
       "      <td>25.950000</td>\n",
       "      <td>158.715596</td>\n",
       "    </tr>\n",
       "    <tr>\n",
       "      <th>64</th>\n",
       "      <td>HH Pandya</td>\n",
       "      <td>1082</td>\n",
       "      <td>38</td>\n",
       "      <td>689</td>\n",
       "      <td>28.473684</td>\n",
       "      <td>157.039187</td>\n",
       "    </tr>\n",
       "    <tr>\n",
       "      <th>20</th>\n",
       "      <td>V Sehwag</td>\n",
       "      <td>2728</td>\n",
       "      <td>98</td>\n",
       "      <td>1746</td>\n",
       "      <td>27.836735</td>\n",
       "      <td>156.242841</td>\n",
       "    </tr>\n",
       "  </tbody>\n",
       "</table>\n",
       "</div>"
      ],
      "text/plain": [
       "        batsman  total_runs  out  numberofballs    average  strikerate\n",
       "49   AD Russell        1415   41            752  34.512195  188.164894\n",
       "38      RR Pant        1767   49           1071  36.061224  164.985994\n",
       "103   CH Morris         519   20            327  25.950000  158.715596\n",
       "64    HH Pandya        1082   38            689  28.473684  157.039187\n",
       "20     V Sehwag        2728   98           1746  27.836735  156.242841"
      ]
     },
     "execution_count": 6,
     "metadata": {},
     "output_type": "execute_result"
    }
   ],
   "source": [
    "ras_df.loc[(ras_df['average']>=25) & (ras_df['total_runs']>=500)].sort_values('strikerate', ascending = False).head()"
   ]
  },
  {
   "cell_type": "markdown",
   "id": "e26ce069",
   "metadata": {},
   "source": [
    "# Match Winner\n",
    "   Player with most M.O.M"
   ]
  },
  {
   "cell_type": "code",
   "execution_count": 7,
   "id": "3aafa00c",
   "metadata": {},
   "outputs": [
    {
     "data": {
      "text/plain": [
       "'CH Gayle'"
      ]
     },
     "execution_count": 7,
     "metadata": {},
     "output_type": "execute_result"
    }
   ],
   "source": [
    "match_df.player_of_match.mode()[0]"
   ]
  },
  {
   "cell_type": "code",
   "execution_count": 8,
   "id": "b508453c",
   "metadata": {},
   "outputs": [
    {
     "data": {
      "text/plain": [
       "'Mumbai Indians'"
      ]
     },
     "execution_count": 8,
     "metadata": {},
     "output_type": "execute_result"
    }
   ],
   "source": [
    "match_df.winner.mode()[0]  # Team with most wins"
   ]
  },
  {
   "cell_type": "code",
   "execution_count": 9,
   "id": "b8e64712",
   "metadata": {},
   "outputs": [
    {
     "data": {
      "text/plain": [
       "'Mumbai'"
      ]
     },
     "execution_count": 9,
     "metadata": {},
     "output_type": "execute_result"
    }
   ],
   "source": [
    "match_df.city.mode()[0]  # City with most matches played"
   ]
  },
  {
   "cell_type": "code",
   "execution_count": 10,
   "id": "fa6ba36d",
   "metadata": {},
   "outputs": [
    {
     "data": {
      "text/plain": [
       "'Eden Gardens'"
      ]
     },
     "execution_count": 10,
     "metadata": {},
     "output_type": "execute_result"
    }
   ],
   "source": [
    "match_df.venue.mode()[0] # Venue with most matches played"
   ]
  },
  {
   "cell_type": "code",
   "execution_count": 11,
   "id": "d8fdba93",
   "metadata": {},
   "outputs": [
    {
     "data": {
      "text/plain": [
       "43          Feroz Shah Kotla\n",
       "619    M Chinnaswamy Stadium\n",
       "59     M Chinnaswamy Stadium\n",
       "556    M Chinnaswamy Stadium\n",
       "410    M Chinnaswamy Stadium\n",
       "Name: venue, dtype: object"
      ]
     },
     "execution_count": 11,
     "metadata": {},
     "output_type": "execute_result"
    }
   ],
   "source": [
    "match_df.sort_values('win_by_runs', ascending = False)['venue'].head() # Venue with highest win margins (runs)"
   ]
  },
  {
   "cell_type": "code",
   "execution_count": 12,
   "id": "fb8cfe00",
   "metadata": {},
   "outputs": [
    {
     "data": {
      "text/plain": [
       "119                                             Newlands\n",
       "390           Punjab Cricket Association Stadium, Mohali\n",
       "34     Punjab Cricket Association IS Bindra Stadium, ...\n",
       "590               Saurashtra Cricket Association Stadium\n",
       "71                            Dr DY Patil Sports Academy\n",
       "Name: venue, dtype: object"
      ]
     },
     "execution_count": 12,
     "metadata": {},
     "output_type": "execute_result"
    }
   ],
   "source": [
    "match_df.sort_values('win_by_wickets', ascending = False)['venue'].head() # Venue with highest win margin (wickets)"
   ]
  },
  {
   "cell_type": "markdown",
   "id": "9763d479",
   "metadata": {},
   "source": [
    "# Bowlers Data\n",
    "various data related to bowlers"
   ]
  },
  {
   "cell_type": "code",
   "execution_count": 29,
   "id": "e46d9ab9",
   "metadata": {},
   "outputs": [
    {
     "data": {
      "text/plain": [
       "'SL Malinga'"
      ]
     },
     "execution_count": 29,
     "metadata": {},
     "output_type": "execute_result"
    }
   ],
   "source": [
    "dismissal_df = deliveries_df.dropna(subset=['player_dismissed'])\n",
    "\n",
    "dismissal_df[dismissal_df.dismissal_kind!='run out']['bowler'].mode()[0]"
   ]
  },
  {
   "cell_type": "code",
   "execution_count": 104,
   "id": "9e7be28a",
   "metadata": {},
   "outputs": [
    {
     "data": {
      "text/plain": [
       "PP Chawla          171\n",
       "A Mishra           169\n",
       "Harbhajan Singh    142\n",
       "DJ Bravo           133\n",
       "RA Jadeja          131\n",
       "Name: bowler, dtype: int64"
      ]
     },
     "execution_count": 104,
     "metadata": {},
     "output_type": "execute_result"
    }
   ],
   "source": [
    "bowler_six_df = six_main_df['bowler'].value_counts().head()\n",
    "bowler_six_df"
   ]
  },
  {
   "cell_type": "markdown",
   "id": "5384cf3d",
   "metadata": {},
   "source": [
    "# Data Cleaning"
   ]
  },
  {
   "cell_type": "code",
   "execution_count": 42,
   "id": "ef41fe4d",
   "metadata": {},
   "outputs": [
    {
     "data": {
      "text/html": [
       "<div>\n",
       "<style scoped>\n",
       "    .dataframe tbody tr th:only-of-type {\n",
       "        vertical-align: middle;\n",
       "    }\n",
       "\n",
       "    .dataframe tbody tr th {\n",
       "        vertical-align: top;\n",
       "    }\n",
       "\n",
       "    .dataframe thead th {\n",
       "        text-align: right;\n",
       "    }\n",
       "</style>\n",
       "<table border=\"1\" class=\"dataframe\">\n",
       "  <thead>\n",
       "    <tr style=\"text-align: right;\">\n",
       "      <th></th>\n",
       "      <th>id</th>\n",
       "      <th>Season</th>\n",
       "      <th>city</th>\n",
       "      <th>date</th>\n",
       "      <th>team1</th>\n",
       "      <th>team2</th>\n",
       "      <th>toss_winner</th>\n",
       "      <th>toss_decision</th>\n",
       "      <th>result</th>\n",
       "      <th>dl_applied</th>\n",
       "      <th>winner</th>\n",
       "      <th>win_by_runs</th>\n",
       "      <th>win_by_wickets</th>\n",
       "      <th>player_of_match</th>\n",
       "      <th>venue</th>\n",
       "      <th>umpire1</th>\n",
       "      <th>umpire2</th>\n",
       "    </tr>\n",
       "  </thead>\n",
       "  <tbody>\n",
       "    <tr>\n",
       "      <th>0</th>\n",
       "      <td>1</td>\n",
       "      <td>IPL-2017</td>\n",
       "      <td>Hyderabad</td>\n",
       "      <td>05-04-2017</td>\n",
       "      <td>Sunrisers Hyderabad</td>\n",
       "      <td>Royal Challengers Bangalore</td>\n",
       "      <td>Royal Challengers Bangalore</td>\n",
       "      <td>field</td>\n",
       "      <td>normal</td>\n",
       "      <td>0</td>\n",
       "      <td>Sunrisers Hyderabad</td>\n",
       "      <td>35</td>\n",
       "      <td>0</td>\n",
       "      <td>Yuvraj Singh</td>\n",
       "      <td>Rajiv Gandhi International Stadium, Uppal</td>\n",
       "      <td>AY Dandekar</td>\n",
       "      <td>NJ Llong</td>\n",
       "    </tr>\n",
       "    <tr>\n",
       "      <th>1</th>\n",
       "      <td>2</td>\n",
       "      <td>IPL-2017</td>\n",
       "      <td>Pune</td>\n",
       "      <td>06-04-2017</td>\n",
       "      <td>Mumbai Indians</td>\n",
       "      <td>Rising Pune Supergiant</td>\n",
       "      <td>Rising Pune Supergiant</td>\n",
       "      <td>field</td>\n",
       "      <td>normal</td>\n",
       "      <td>0</td>\n",
       "      <td>Rising Pune Supergiant</td>\n",
       "      <td>0</td>\n",
       "      <td>7</td>\n",
       "      <td>SPD Smith</td>\n",
       "      <td>Maharashtra Cricket Association Stadium</td>\n",
       "      <td>A Nand Kishore</td>\n",
       "      <td>S Ravi</td>\n",
       "    </tr>\n",
       "    <tr>\n",
       "      <th>2</th>\n",
       "      <td>3</td>\n",
       "      <td>IPL-2017</td>\n",
       "      <td>Rajkot</td>\n",
       "      <td>07-04-2017</td>\n",
       "      <td>Gujarat Lions</td>\n",
       "      <td>Kolkata Knight Riders</td>\n",
       "      <td>Kolkata Knight Riders</td>\n",
       "      <td>field</td>\n",
       "      <td>normal</td>\n",
       "      <td>0</td>\n",
       "      <td>Kolkata Knight Riders</td>\n",
       "      <td>0</td>\n",
       "      <td>10</td>\n",
       "      <td>CA Lynn</td>\n",
       "      <td>Saurashtra Cricket Association Stadium</td>\n",
       "      <td>Nitin Menon</td>\n",
       "      <td>CK Nandan</td>\n",
       "    </tr>\n",
       "    <tr>\n",
       "      <th>3</th>\n",
       "      <td>4</td>\n",
       "      <td>IPL-2017</td>\n",
       "      <td>Indore</td>\n",
       "      <td>08-04-2017</td>\n",
       "      <td>Rising Pune Supergiant</td>\n",
       "      <td>Kings XI Punjab</td>\n",
       "      <td>Kings XI Punjab</td>\n",
       "      <td>field</td>\n",
       "      <td>normal</td>\n",
       "      <td>0</td>\n",
       "      <td>Kings XI Punjab</td>\n",
       "      <td>0</td>\n",
       "      <td>6</td>\n",
       "      <td>GJ Maxwell</td>\n",
       "      <td>Holkar Cricket Stadium</td>\n",
       "      <td>AK Chaudhary</td>\n",
       "      <td>C Shamshuddin</td>\n",
       "    </tr>\n",
       "    <tr>\n",
       "      <th>4</th>\n",
       "      <td>5</td>\n",
       "      <td>IPL-2017</td>\n",
       "      <td>Bangalore</td>\n",
       "      <td>08-04-2017</td>\n",
       "      <td>Royal Challengers Bangalore</td>\n",
       "      <td>Delhi Daredevils</td>\n",
       "      <td>Royal Challengers Bangalore</td>\n",
       "      <td>bat</td>\n",
       "      <td>normal</td>\n",
       "      <td>0</td>\n",
       "      <td>Royal Challengers Bangalore</td>\n",
       "      <td>15</td>\n",
       "      <td>0</td>\n",
       "      <td>KM Jadhav</td>\n",
       "      <td>M Chinnaswamy Stadium</td>\n",
       "      <td>NaN</td>\n",
       "      <td>NaN</td>\n",
       "    </tr>\n",
       "    <tr>\n",
       "      <th>...</th>\n",
       "      <td>...</td>\n",
       "      <td>...</td>\n",
       "      <td>...</td>\n",
       "      <td>...</td>\n",
       "      <td>...</td>\n",
       "      <td>...</td>\n",
       "      <td>...</td>\n",
       "      <td>...</td>\n",
       "      <td>...</td>\n",
       "      <td>...</td>\n",
       "      <td>...</td>\n",
       "      <td>...</td>\n",
       "      <td>...</td>\n",
       "      <td>...</td>\n",
       "      <td>...</td>\n",
       "      <td>...</td>\n",
       "      <td>...</td>\n",
       "    </tr>\n",
       "    <tr>\n",
       "      <th>751</th>\n",
       "      <td>11347</td>\n",
       "      <td>IPL-2019</td>\n",
       "      <td>Mumbai</td>\n",
       "      <td>05-05-2019</td>\n",
       "      <td>Kolkata Knight Riders</td>\n",
       "      <td>Mumbai Indians</td>\n",
       "      <td>Mumbai Indians</td>\n",
       "      <td>field</td>\n",
       "      <td>normal</td>\n",
       "      <td>0</td>\n",
       "      <td>Mumbai Indians</td>\n",
       "      <td>0</td>\n",
       "      <td>9</td>\n",
       "      <td>HH Pandya</td>\n",
       "      <td>Wankhede Stadium</td>\n",
       "      <td>Nanda Kishore</td>\n",
       "      <td>O Nandan</td>\n",
       "    </tr>\n",
       "    <tr>\n",
       "      <th>752</th>\n",
       "      <td>11412</td>\n",
       "      <td>IPL-2019</td>\n",
       "      <td>Chennai</td>\n",
       "      <td>07-05-2019</td>\n",
       "      <td>Chennai Super Kings</td>\n",
       "      <td>Mumbai Indians</td>\n",
       "      <td>Chennai Super Kings</td>\n",
       "      <td>bat</td>\n",
       "      <td>normal</td>\n",
       "      <td>0</td>\n",
       "      <td>Mumbai Indians</td>\n",
       "      <td>0</td>\n",
       "      <td>6</td>\n",
       "      <td>AS Yadav</td>\n",
       "      <td>M. A. Chidambaram Stadium</td>\n",
       "      <td>Nigel Llong</td>\n",
       "      <td>Nitin Menon</td>\n",
       "    </tr>\n",
       "    <tr>\n",
       "      <th>753</th>\n",
       "      <td>11413</td>\n",
       "      <td>IPL-2019</td>\n",
       "      <td>Visakhapatnam</td>\n",
       "      <td>08-05-2019</td>\n",
       "      <td>Sunrisers Hyderabad</td>\n",
       "      <td>Delhi Capitals</td>\n",
       "      <td>Delhi Capitals</td>\n",
       "      <td>field</td>\n",
       "      <td>normal</td>\n",
       "      <td>0</td>\n",
       "      <td>Delhi Capitals</td>\n",
       "      <td>0</td>\n",
       "      <td>2</td>\n",
       "      <td>RR Pant</td>\n",
       "      <td>ACA-VDCA Stadium</td>\n",
       "      <td>NaN</td>\n",
       "      <td>NaN</td>\n",
       "    </tr>\n",
       "    <tr>\n",
       "      <th>754</th>\n",
       "      <td>11414</td>\n",
       "      <td>IPL-2019</td>\n",
       "      <td>Visakhapatnam</td>\n",
       "      <td>10-05-2019</td>\n",
       "      <td>Delhi Capitals</td>\n",
       "      <td>Chennai Super Kings</td>\n",
       "      <td>Chennai Super Kings</td>\n",
       "      <td>field</td>\n",
       "      <td>normal</td>\n",
       "      <td>0</td>\n",
       "      <td>Chennai Super Kings</td>\n",
       "      <td>0</td>\n",
       "      <td>6</td>\n",
       "      <td>F du Plessis</td>\n",
       "      <td>ACA-VDCA Stadium</td>\n",
       "      <td>Sundaram Ravi</td>\n",
       "      <td>Bruce Oxenford</td>\n",
       "    </tr>\n",
       "    <tr>\n",
       "      <th>755</th>\n",
       "      <td>11415</td>\n",
       "      <td>IPL-2019</td>\n",
       "      <td>Hyderabad</td>\n",
       "      <td>12-05-2019</td>\n",
       "      <td>Mumbai Indians</td>\n",
       "      <td>Chennai Super Kings</td>\n",
       "      <td>Mumbai Indians</td>\n",
       "      <td>bat</td>\n",
       "      <td>normal</td>\n",
       "      <td>0</td>\n",
       "      <td>Mumbai Indians</td>\n",
       "      <td>1</td>\n",
       "      <td>0</td>\n",
       "      <td>JJ Bumrah</td>\n",
       "      <td>Rajiv Gandhi Intl. Cricket Stadium</td>\n",
       "      <td>Nitin Menon</td>\n",
       "      <td>Ian Gould</td>\n",
       "    </tr>\n",
       "  </tbody>\n",
       "</table>\n",
       "<p>756 rows × 17 columns</p>\n",
       "</div>"
      ],
      "text/plain": [
       "        id    Season           city        date                        team1  \\\n",
       "0        1  IPL-2017      Hyderabad  05-04-2017          Sunrisers Hyderabad   \n",
       "1        2  IPL-2017           Pune  06-04-2017               Mumbai Indians   \n",
       "2        3  IPL-2017         Rajkot  07-04-2017                Gujarat Lions   \n",
       "3        4  IPL-2017         Indore  08-04-2017       Rising Pune Supergiant   \n",
       "4        5  IPL-2017      Bangalore  08-04-2017  Royal Challengers Bangalore   \n",
       "..     ...       ...            ...         ...                          ...   \n",
       "751  11347  IPL-2019         Mumbai  05-05-2019        Kolkata Knight Riders   \n",
       "752  11412  IPL-2019        Chennai  07-05-2019          Chennai Super Kings   \n",
       "753  11413  IPL-2019  Visakhapatnam  08-05-2019          Sunrisers Hyderabad   \n",
       "754  11414  IPL-2019  Visakhapatnam  10-05-2019               Delhi Capitals   \n",
       "755  11415  IPL-2019      Hyderabad  12-05-2019               Mumbai Indians   \n",
       "\n",
       "                           team2                  toss_winner toss_decision  \\\n",
       "0    Royal Challengers Bangalore  Royal Challengers Bangalore         field   \n",
       "1         Rising Pune Supergiant       Rising Pune Supergiant         field   \n",
       "2          Kolkata Knight Riders        Kolkata Knight Riders         field   \n",
       "3                Kings XI Punjab              Kings XI Punjab         field   \n",
       "4               Delhi Daredevils  Royal Challengers Bangalore           bat   \n",
       "..                           ...                          ...           ...   \n",
       "751               Mumbai Indians               Mumbai Indians         field   \n",
       "752               Mumbai Indians          Chennai Super Kings           bat   \n",
       "753               Delhi Capitals               Delhi Capitals         field   \n",
       "754          Chennai Super Kings          Chennai Super Kings         field   \n",
       "755          Chennai Super Kings               Mumbai Indians           bat   \n",
       "\n",
       "     result  dl_applied                       winner  win_by_runs  \\\n",
       "0    normal           0          Sunrisers Hyderabad           35   \n",
       "1    normal           0       Rising Pune Supergiant            0   \n",
       "2    normal           0        Kolkata Knight Riders            0   \n",
       "3    normal           0              Kings XI Punjab            0   \n",
       "4    normal           0  Royal Challengers Bangalore           15   \n",
       "..      ...         ...                          ...          ...   \n",
       "751  normal           0               Mumbai Indians            0   \n",
       "752  normal           0               Mumbai Indians            0   \n",
       "753  normal           0               Delhi Capitals            0   \n",
       "754  normal           0          Chennai Super Kings            0   \n",
       "755  normal           0               Mumbai Indians            1   \n",
       "\n",
       "     win_by_wickets player_of_match  \\\n",
       "0                 0    Yuvraj Singh   \n",
       "1                 7       SPD Smith   \n",
       "2                10         CA Lynn   \n",
       "3                 6      GJ Maxwell   \n",
       "4                 0       KM Jadhav   \n",
       "..              ...             ...   \n",
       "751               9       HH Pandya   \n",
       "752               6        AS Yadav   \n",
       "753               2         RR Pant   \n",
       "754               6    F du Plessis   \n",
       "755               0       JJ Bumrah   \n",
       "\n",
       "                                         venue         umpire1         umpire2  \n",
       "0    Rajiv Gandhi International Stadium, Uppal     AY Dandekar        NJ Llong  \n",
       "1      Maharashtra Cricket Association Stadium  A Nand Kishore          S Ravi  \n",
       "2       Saurashtra Cricket Association Stadium     Nitin Menon       CK Nandan  \n",
       "3                       Holkar Cricket Stadium    AK Chaudhary   C Shamshuddin  \n",
       "4                        M Chinnaswamy Stadium             NaN             NaN  \n",
       "..                                         ...             ...             ...  \n",
       "751                           Wankhede Stadium   Nanda Kishore        O Nandan  \n",
       "752                  M. A. Chidambaram Stadium     Nigel Llong     Nitin Menon  \n",
       "753                           ACA-VDCA Stadium             NaN             NaN  \n",
       "754                           ACA-VDCA Stadium   Sundaram Ravi  Bruce Oxenford  \n",
       "755         Rajiv Gandhi Intl. Cricket Stadium     Nitin Menon       Ian Gould  \n",
       "\n",
       "[756 rows x 17 columns]"
      ]
     },
     "execution_count": 42,
     "metadata": {},
     "output_type": "execute_result"
    }
   ],
   "source": [
    "match_df.drop('umpire3', 1)"
   ]
  },
  {
   "cell_type": "markdown",
   "id": "c301226b",
   "metadata": {},
   "source": [
    "# Data Visualization"
   ]
  },
  {
   "cell_type": "markdown",
   "id": "d07ad3b0",
   "metadata": {},
   "source": [
    "## Pie Chart"
   ]
  },
  {
   "cell_type": "markdown",
   "id": "3b8b2f0b",
   "metadata": {},
   "source": [
    "### Bowlers Hit for most sixes"
   ]
  },
  {
   "cell_type": "code",
   "execution_count": 99,
   "id": "4c1ec495",
   "metadata": {},
   "outputs": [],
   "source": [
    "# define data\n",
    "\n",
    "data = [171, 169, 142, 133, 131]\n",
    "labels = ['Piyush Chawla', 'Amit Mishra', 'Harbhajan Singh', 'DJ Bravo', 'Ravindra jadeja']"
   ]
  },
  {
   "cell_type": "code",
   "execution_count": 95,
   "id": "752fec4f",
   "metadata": {},
   "outputs": [],
   "source": [
    "# define seaborn color pallete\n",
    "\n",
    "colors = sns.color_palette(\"Set2\")"
   ]
  },
  {
   "cell_type": "code",
   "execution_count": 100,
   "id": "0a06b575",
   "metadata": {},
   "outputs": [
    {
     "data": {
      "image/png": "[encoded data removed]",
      "text/plain": [
       "<Figure size 432x288 with 1 Axes>"
      ]
     },
     "metadata": {},
     "output_type": "display_data"
    }
   ],
   "source": [
    "# create pie chart\n",
    "\n",
    "plt.pie(data, labels = labels, colors = colors, autopct='%.0f%%')\n",
    "plt.show()"
   ]
  },
  {
   "cell_type": "markdown",
   "id": "0bc5572a",
   "metadata": {},
   "source": [
    "## Bar Graph"
   ]
  },
  {
   "cell_type": "markdown",
   "id": "706c201a",
   "metadata": {},
   "source": [
    "### MVP Batsman"
   ]
  },
  {
   "cell_type": "code",
   "execution_count": 108,
   "id": "1b226cfc",
   "metadata": {},
   "outputs": [
    {
     "data": {
      "text/html": [
       "<div>\n",
       "<style scoped>\n",
       "    .dataframe tbody tr th:only-of-type {\n",
       "        vertical-align: middle;\n",
       "    }\n",
       "\n",
       "    .dataframe tbody tr th {\n",
       "        vertical-align: top;\n",
       "    }\n",
       "\n",
       "    .dataframe thead th {\n",
       "        text-align: right;\n",
       "    }\n",
       "</style>\n",
       "<table border=\"1\" class=\"dataframe\">\n",
       "  <thead>\n",
       "    <tr style=\"text-align: right;\">\n",
       "      <th></th>\n",
       "      <th>batsman</th>\n",
       "      <th>total_runs</th>\n",
       "    </tr>\n",
       "  </thead>\n",
       "  <tbody>\n",
       "    <tr>\n",
       "      <th>0</th>\n",
       "      <td>V Kohli</td>\n",
       "      <td>5426</td>\n",
       "    </tr>\n",
       "    <tr>\n",
       "      <th>1</th>\n",
       "      <td>SK Raina</td>\n",
       "      <td>5386</td>\n",
       "    </tr>\n",
       "    <tr>\n",
       "      <th>2</th>\n",
       "      <td>RG Sharma</td>\n",
       "      <td>4902</td>\n",
       "    </tr>\n",
       "    <tr>\n",
       "      <th>3</th>\n",
       "      <td>DA Warner</td>\n",
       "      <td>4717</td>\n",
       "    </tr>\n",
       "    <tr>\n",
       "      <th>5</th>\n",
       "      <td>CH Gayle</td>\n",
       "      <td>4525</td>\n",
       "    </tr>\n",
       "  </tbody>\n",
       "</table>\n",
       "</div>"
      ],
      "text/plain": [
       "     batsman  total_runs\n",
       "0    V Kohli        5426\n",
       "1   SK Raina        5386\n",
       "2  RG Sharma        4902\n",
       "3  DA Warner        4717\n",
       "5   CH Gayle        4525"
      ]
     },
     "execution_count": 108,
     "metadata": {},
     "output_type": "execute_result"
    }
   ],
   "source": [
    "mvp_df.drop(['out', 'numberofballs', 'average', 'strikerate'], 1).head()"
   ]
  },
  {
   "cell_type": "code",
   "execution_count": 109,
   "id": "0379b3ee",
   "metadata": {},
   "outputs": [],
   "source": [
    "df = pd.DataFrame({'batsman':['Virat Kohli','Suresh Raina','Rohit Sharma','David Warner','Chris Gayle'], \n",
    "    'total_runs': [5426, 5386, 4902, 4717, 4525]})"
   ]
  },
  {
   "cell_type": "code",
   "execution_count": 117,
   "id": "987411b8",
   "metadata": {},
   "outputs": [],
   "source": [
    "sns.set_style('darkgrid')"
   ]
  },
  {
   "cell_type": "code",
   "execution_count": 120,
   "id": "86f18edc",
   "metadata": {},
   "outputs": [
    {
     "data": {
      "text/plain": [
       "<AxesSubplot:xlabel='total_runs', ylabel='batsman'>"
      ]
     },
     "execution_count": 120,
     "metadata": {},
     "output_type": "execute_result"
    },
    {
     "data": {
      "image/png": "[encoded data removed]",
      "text/plain": [
       "<Figure size 432x288 with 1 Axes>"
      ]
     },
     "metadata": {},
     "output_type": "display_data"
    }
   ],
   "source": [
    "sns.barplot(x='total_runs', y='batsman', data=df, palette= 'husl')"
   ]
  },
  {
   "cell_type": "code",
   "execution_count": 121,
   "id": "d187fda2",
   "metadata": {},
   "outputs": [],
   "source": [
    "# Impact player graph\n",
    "# wickets data & graph\n",
    "# venue graph\n",
    "# boundaries by batsman graph\n",
    "# boundaries by bowlers graph"
   ]
  },
  {
   "cell_type": "code",
   "execution_count": null,
   "id": "daaeb9ae",
   "metadata": {},
   "outputs": [],
   "source": []
  }
 ],
 "metadata": {
  "kernelspec": {
   "display_name": "Python 3",
   "language": "python",
   "name": "python3"
  },
  "language_info": {
   "codemirror_mode": {
    "name": "ipython",
    "version": 3
   },
   "file_extension": ".py",
   "mimetype": "text/x-python",
   "name": "python",
   "nbconvert_exporter": "python",
   "pygments_lexer": "ipython3",
   "version": "3.8.8"
  }
 },
 "nbformat": 4,
 "nbformat_minor": 5
}
