{
 "cells": [
  {
   "cell_type": "markdown",
   "id": "b9d79a70",
   "metadata": {},
   "source": [
    "# File for explanation of calsses and function used in the program"
   ]
  },
  {
   "cell_type": "markdown",
   "id": "b19687d2",
   "metadata": {},
   "source": [
    "## Classes used in the EDA Project and \n",
    "\n",
    "1. Player_profile()\n",
    "    - display_record()\n",
    "    - get_batsman_info()\n",
    "    - run_against_bowler()\n",
    "    \n",
    "    \n",
    "2. Bowling_data()\n",
    "    - over_run()\n",
    "    - per_over_run()"
   ]
  },
  {
   "cell_type": "markdown",
   "id": "7e3c2300",
   "metadata": {},
   "source": [
    "## Function used in the EDA Project\n",
    "\n",
    "1. bowling_type()\n",
    "2. bat_against_bowl()\n",
    "3. runs_against_style()\n",
    "4. wickets_against_hand()\n",
    "5. dismissal_type_df()\n",
    "6. runs_against_hand()\n",
    "7. per_over_avg_run()"
   ]
  },
  {
   "cell_type": "code",
   "execution_count": 1,
   "id": "57e4bfaf",
   "metadata": {},
   "outputs": [],
   "source": [
    "# Elaborate on the classes and function "
   ]
  },
  {
   "cell_type": "code",
   "execution_count": null,
   "id": "72f5bbe2",
   "metadata": {},
   "outputs": [],
   "source": []
  }
 ],
 "metadata": {
  "kernelspec": {
   "display_name": "Python 3",
   "language": "python",
   "name": "python3"
  },
  "language_info": {
   "codemirror_mode": {
    "name": "ipython",
    "version": 3
   },
   "file_extension": ".py",
   "mimetype": "text/x-python",
   "name": "python",
   "nbconvert_exporter": "python",
   "pygments_lexer": "ipython3",
   "version": "3.8.8"
  }
 },
 "nbformat": 4,
 "nbformat_minor": 5
}
