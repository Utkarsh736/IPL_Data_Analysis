{
 "cells": [
  {
   "cell_type": "code",
   "execution_count": 1,
   "id": "a453dfec",
   "metadata": {},
   "outputs": [],
   "source": [
    "# Project Title\n",
    "# Downloading Dataset\n",
    "# Data Preparation and Cleaning\n",
    "# Exploratory Analysis and visualization\n",
    "# Question and Answer\n",
    "# Infrences and Conclusion\n",
    "# References and Future work"
   ]
  },
  {
   "cell_type": "markdown",
   "id": "2ffbd24c",
   "metadata": {},
   "source": [
    "# Project Title\n",
    "\n",
    "IPL Dataset analaysis"
   ]
  },
  {
   "cell_type": "code",
   "execution_count": null,
   "id": "41319247",
   "metadata": {},
   "outputs": [],
   "source": []
  },
  {
   "cell_type": "markdown",
   "id": "d57f1d31",
   "metadata": {},
   "source": [
    "# Downloading Dataset"
   ]
  },
  {
   "cell_type": "markdown",
   "id": "7232a5ad",
   "metadata": {},
   "source": [
    "# Random"
   ]
  },
  {
   "cell_type": "code",
   "execution_count": 2,
   "id": "3d988c20",
   "metadata": {},
   "outputs": [],
   "source": [
    "import pandas as pd\n",
    "import numpy as np\n",
    "import os\n",
    "import matplotlib.pyplot as plt\n",
    "import seaborn as sns\n",
    "%matplotlib inline"
   ]
  },
  {
   "cell_type": "code",
   "execution_count": 3,
   "id": "5ef2a3b5",
   "metadata": {},
   "outputs": [],
   "source": [
    "match_df = pd.read_csv('IPL_dataset/matches.csv')\n",
    "deliveries_df = pd.read_csv('IPL_dataset/deliveries.csv')\n",
    "ras_df = pd.read_csv('IPL_dataset/most_runs_average_strikerate.csv')"
   ]
  },
  {
   "cell_type": "code",
   "execution_count": 4,
   "id": "9ca876bc",
   "metadata": {},
   "outputs": [],
   "source": [
    "innings1_df = deliveries_df[deliveries_df['inning']==1] # First Innings data\n",
    "innings2_df = deliveries_df[deliveries_df['inning']==2] # Second Innings data"
   ]
  },
  {
   "cell_type": "markdown",
   "id": "110b211e",
   "metadata": {},
   "source": [
    "## Boundary(4&6) Hitting Record for MVP batsman"
   ]
  },
  {
   "cell_type": "markdown",
   "id": "cc7190a4",
   "metadata": {},
   "source": [
    "### V Kohli : 1st Innings"
   ]
  },
  {
   "cell_type": "code",
   "execution_count": 5,
   "id": "a0f4057d",
   "metadata": {},
   "outputs": [],
   "source": [
    "kohli6a_df = innings1_df.loc[(innings1_df['batsman']=='V Kohli') &(innings1_df['batsman_runs']==6)] # 6 data for V Kohli\n",
    "kohli6a_main_df = kohli6a_df[['bowling_team', 'over', 'ball', 'bowler']] # Filtered 6 data for Kohli\n",
    "kohli6a_over_df = kohli6a_main_df[['over']].value_counts() # number of 6's hit per over by Kohli"
   ]
  },
  {
   "cell_type": "code",
   "execution_count": 6,
   "id": "6bc030d6",
   "metadata": {},
   "outputs": [],
   "source": [
    "kohli4a_df = innings1_df.loc[(innings1_df['batsman']=='V Kohli') &(innings1_df['batsman_runs']==4)] # 4 data for V Kohli\n",
    "kohli4a_main_df = kohli4a_df[['bowling_team', 'over', 'ball', 'bowler']] # Filtered 4 data for Kohli\n",
    "kohli4a_over_df = kohli4a_main_df[['over']].value_counts() # number of 4's hit per over by Kohli"
   ]
  },
  {
   "cell_type": "markdown",
   "id": "bac90466",
   "metadata": {},
   "source": [
    "### V Kohli: 2nd Innings"
   ]
  },
  {
   "cell_type": "code",
   "execution_count": 7,
   "id": "156925bf",
   "metadata": {},
   "outputs": [],
   "source": [
    "# Record for 6 by Kohli\n",
    "\n",
    "kohli6b_df = innings2_df.loc[(innings2_df['batsman']=='V Kohli') &(innings2_df['batsman_runs']==6)] # 6 data for V Kohli\n",
    "kohli6b_main_df = kohli6b_df[['bowling_team', 'over', 'ball', 'bowler']] # Filtered 6 data for Kohli\n",
    "kohli6b_over_df = kohli6b_main_df[['over']].value_counts() # number of 6's hit per over by Kohli"
   ]
  },
  {
   "cell_type": "code",
   "execution_count": 8,
   "id": "30aabb21",
   "metadata": {},
   "outputs": [],
   "source": [
    "#  Record for 4 by Kohli\n",
    "\n",
    "kohli4b_df = innings2_df.loc[(innings2_df['batsman']=='V Kohli') &(innings2_df['batsman_runs']==4)] # 4 data for V Kohli\n",
    "kohli4b_main_df = kohli4b_df[['bowling_team', 'over', 'ball', 'bowler']] # Filtered 4 data for Kohli\n",
    "kohli4b_over_df = kohli4b_main_df[['over']].value_counts() # number of 4's hit per over by Kohli"
   ]
  },
  {
   "cell_type": "markdown",
   "id": "00023d81",
   "metadata": {},
   "source": [
    "### S Raina: 1st Innings"
   ]
  },
  {
   "cell_type": "code",
   "execution_count": 9,
   "id": "671baab8",
   "metadata": {},
   "outputs": [],
   "source": [
    "raina6a_df = innings1_df.loc[(innings1_df['batsman']=='SK Raina') &(innings1_df['batsman_runs']==6)] # 6 data for S Raina\n",
    "raina6a_main_df = raina6a_df[['bowling_team', 'over', 'ball', 'bowler']] # Filtered 6 data for Raina\n",
    "raina6a_over_df = raina6a_main_df[['over']].value_counts() # number of 6's hit per over by Raina"
   ]
  },
  {
   "cell_type": "code",
   "execution_count": 10,
   "id": "fc2490d5",
   "metadata": {},
   "outputs": [],
   "source": [
    "raina4a_df = innings1_df.loc[(innings1_df['batsman']=='SK Raina') &(innings1_df['batsman_runs']==4)] # 4 data for S Raina\n",
    "raina4a_main_df = raina4a_df[['bowling_team', 'over', 'ball', 'bowler']] # Filtered 4 data for Raina\n",
    "raina4a_over_df = raina4a_main_df[['over']].value_counts() # number of 4's hit per over by Raina"
   ]
  },
  {
   "cell_type": "markdown",
   "id": "f6674a12",
   "metadata": {},
   "source": [
    "### S Raina: 2nd Innings"
   ]
  },
  {
   "cell_type": "code",
   "execution_count": 11,
   "id": "8c5d1bfe",
   "metadata": {},
   "outputs": [],
   "source": [
    "raina6b_df = innings2_df.loc[(innings2_df['batsman']=='SK Raina') &(innings2_df['batsman_runs']==6)] # 6 data for S Raina\n",
    "raina6b_main_df = raina6b_df[['bowling_team', 'over', 'ball', 'bowler']] # Filtered 6 data for Raina\n",
    "raina6b_over_df = raina6b_main_df[['over']].value_counts() # number of 6's hit per over by Raina"
   ]
  },
  {
   "cell_type": "code",
   "execution_count": 12,
   "id": "1d321540",
   "metadata": {},
   "outputs": [],
   "source": [
    "raina4b_df = innings2_df.loc[(innings2_df['batsman']=='SK Raina') &(innings2_df['batsman_runs']==4)] # 4 data for S Raina\n",
    "raina4b_main_df = raina4b_df[['bowling_team', 'over', 'ball', 'bowler']] # Filtered 4 data for Raina\n",
    "raina4b_over_df = raina4b_main_df[['over']].value_counts() # number of 4's hit per over by Raina"
   ]
  },
  {
   "cell_type": "markdown",
   "id": "14569332",
   "metadata": {},
   "source": [
    "### R Sharma: 1st Innings"
   ]
  },
  {
   "cell_type": "code",
   "execution_count": 13,
   "id": "2c1b22a7",
   "metadata": {},
   "outputs": [],
   "source": [
    "sharma6a_df = innings1_df.loc[(innings1_df['batsman']=='RG Sharma') &(innings1_df['batsman_runs']==6)] # 6 data for R Sharma\n",
    "sharma6a_main_df = sharma6a_df[['bowling_team', 'over', 'ball', 'bowler']] # Filtered 6 data for Sharma\n",
    "sharma6a_over_df = sharma6a_main_df[['over']].value_counts() # number of 6's hit per over by Sharma"
   ]
  },
  {
   "cell_type": "code",
   "execution_count": 14,
   "id": "ad736e38",
   "metadata": {},
   "outputs": [],
   "source": [
    "sharma4a_df = innings1_df.loc[(innings1_df['batsman']=='RG Sharma') &(innings1_df['batsman_runs']==4)] # 4 data for R Sharma\n",
    "sharma4a_main_df = sharma4a_df[['bowling_team', 'over', 'ball', 'bowler']] # Filtered 4 data for Sharma\n",
    "sharma4a_over_df = sharma4a_main_df[['over']].value_counts() # number of 4's hit per over by Sharma"
   ]
  },
  {
   "cell_type": "markdown",
   "id": "51f778d7",
   "metadata": {},
   "source": [
    "### R Sharma: 2nd Innings"
   ]
  },
  {
   "cell_type": "code",
   "execution_count": 15,
   "id": "490b6ec2",
   "metadata": {},
   "outputs": [],
   "source": [
    "sharma6b_df = innings2_df.loc[(innings2_df['batsman']=='RG Sharma') &(innings2_df['batsman_runs']==6)] # 6 data for R Sharma\n",
    "sharma6b_main_df = sharma6b_df[['bowling_team', 'over', 'ball', 'bowler']] # Filtered 6 data for Sharma\n",
    "sharma6b_over_df = sharma6b_main_df[['over']].value_counts() # number of 6's hit per over by Sharma"
   ]
  },
  {
   "cell_type": "code",
   "execution_count": 16,
   "id": "1eafd290",
   "metadata": {},
   "outputs": [],
   "source": [
    "sharma4b_df = innings2_df.loc[(innings2_df['batsman']=='RG Sharma') &(innings2_df['batsman_runs']==4)] # 4 data for R Sharma\n",
    "sharma4b_main_df = sharma4b_df[['bowling_team', 'over', 'ball', 'bowler']] # Filtered 4 data for Sharma\n",
    "sharma4b_over_df = sharma4b_main_df[['over']].value_counts() # number of 4's hit per over by Sharma"
   ]
  },
  {
   "cell_type": "markdown",
   "id": "c2ec340b",
   "metadata": {},
   "source": [
    "### D Warner: 1st innings"
   ]
  },
  {
   "cell_type": "code",
   "execution_count": 17,
   "id": "b532f396",
   "metadata": {},
   "outputs": [],
   "source": [
    "warner6a_df = innings1_df.loc[(innings1_df['batsman']=='DA Warner') &(innings1_df['batsman_runs']==6)] # 6 data for D Warner\n",
    "warner6a_main_df = warner6a_df[['bowling_team', 'over', 'ball', 'bowler']] # Filtered 6 data for Warner\n",
    "warner6a_over_df = warner6a_main_df[['over']].value_counts() # number of 6's hit per over by Warner"
   ]
  },
  {
   "cell_type": "code",
   "execution_count": 18,
   "id": "93934829",
   "metadata": {},
   "outputs": [],
   "source": [
    "warner4a_df = innings1_df.loc[(innings1_df['batsman']=='DA Warner') &(innings1_df['batsman_runs']==4)] # 6 data for D Warner\n",
    "warner4a_main_df = warner4a_df[['bowling_team', 'over', 'ball', 'bowler']] # Filtered 6 data for Warner\n",
    "warner4a_over_df = warner4a_main_df[['over']].value_counts() # number of 6's hit per over by Warner"
   ]
  },
  {
   "cell_type": "markdown",
   "id": "7d621c84",
   "metadata": {},
   "source": [
    "### D Warner: 2nd Innings"
   ]
  },
  {
   "cell_type": "code",
   "execution_count": 19,
   "id": "49d9dcea",
   "metadata": {},
   "outputs": [],
   "source": [
    "warner6b_df = innings2_df.loc[(innings2_df['batsman']=='DA Warner') &(innings2_df['batsman_runs']==6)] # 6 data for D Warner\n",
    "warner6b_main_df = warner6b_df[['bowling_team', 'over', 'ball', 'bowler']] # Filtered 6 data for Warner\n",
    "warner6b_over_df = warner6b_main_df[['over']].value_counts() # number of 6's hit per over by Warner"
   ]
  },
  {
   "cell_type": "code",
   "execution_count": 20,
   "id": "dca4933c",
   "metadata": {},
   "outputs": [],
   "source": [
    "warner4b_df = innings2_df.loc[(innings2_df['batsman']=='DA Warner') &(innings2_df['batsman_runs']==4)] # 6 data for D Warner\n",
    "warner4b_main_df = warner4b_df[['bowling_team', 'over', 'ball', 'bowler']] # Filtered 6 data for Warner\n",
    "warner4b_over_df = warner4b_main_df[['over']].value_counts() # number of 6's hit per over by Warner"
   ]
  },
  {
   "cell_type": "markdown",
   "id": "1f4500d4",
   "metadata": {},
   "source": [
    "### C Gayle: 1st Innings"
   ]
  },
  {
   "cell_type": "code",
   "execution_count": 21,
   "id": "9c54013e",
   "metadata": {},
   "outputs": [],
   "source": [
    "gayle6a_df = innings1_df.loc[(innings1_df['batsman']=='CH Gayle') &(innings1_df['batsman_runs']==6)] # 6 data for C Gayle\n",
    "gayle6a_main_df = gayle6a_df[['bowling_team', 'over', 'ball', 'bowler']] # Filtered 6 data for Gayle\n",
    "gayle6a_over_df = gayle6a_main_df[['over']].value_counts() # number of 6's hit per over by Gayle"
   ]
  },
  {
   "cell_type": "code",
   "execution_count": 22,
   "id": "1740858e",
   "metadata": {},
   "outputs": [],
   "source": [
    "gayle4b_df = innings1_df.loc[(innings1_df['batsman']=='CH Gayle') &(innings1_df['batsman_runs']==4)] # 4 data for C Gayle\n",
    "gayle4b_main_df = gayle4b_df[['bowling_team', 'over', 'ball', 'bowler']] # Filtered 4 data for Gayle\n",
    "gayle4b_over_df = gayle4b_main_df[['over']].value_counts() # number of 4's hit per over by Gayle"
   ]
  },
  {
   "cell_type": "markdown",
   "id": "7f120ffa",
   "metadata": {},
   "source": [
    "### C Gayle: 2nd Innings"
   ]
  },
  {
   "cell_type": "code",
   "execution_count": 23,
   "id": "491bdf36",
   "metadata": {},
   "outputs": [],
   "source": [
    "gayle6b_df = innings2_df.loc[(innings2_df['batsman']=='CH Gayle') &(innings2_df['batsman_runs']==6)] # 6 data for C Gayle\n",
    "gayle6b_main_df = gayle6b_df[['bowling_team', 'over', 'ball', 'bowler']] # Filtered 6 data for Gayle\n",
    "gayle6b_over_df = gayle6b_main_df[['over']].value_counts() # number of 6's hit per over by Gayle"
   ]
  },
  {
   "cell_type": "code",
   "execution_count": 24,
   "id": "1b5ea8c2",
   "metadata": {},
   "outputs": [],
   "source": [
    "# 4's\n",
    "\n",
    "gayle4b_df = innings2_df.loc[(innings2_df['batsman']=='CH Gayle') &(innings2_df['batsman_runs']==4)] # 4 data for C Gayle\n",
    "gayle4b_main_df = gayle4b_df[['bowling_team', 'over', 'ball', 'bowler']] # Filtered 4 data for Gayle\n",
    "gayle4b_over_df = gayle4b_main_df[['over']].value_counts() # number of 4's hit per over by Gayle"
   ]
  },
  {
   "cell_type": "markdown",
   "id": "7c9b1876",
   "metadata": {},
   "source": [
    "### Boundaries Data Visual"
   ]
  },
  {
   "cell_type": "code",
   "execution_count": null,
   "id": "95ef1454",
   "metadata": {},
   "outputs": [],
   "source": []
  },
  {
   "cell_type": "markdown",
   "id": "99778a05",
   "metadata": {},
   "source": [
    "### Creating Function for Data Extraction"
   ]
  },
  {
   "cell_type": "code",
   "execution_count": 79,
   "id": "5659be0b",
   "metadata": {},
   "outputs": [],
   "source": [
    "def get_batsman_info(player, run, innings):\n",
    "    player_df = deliveries_df[deliveries_df['batsman']==player]\n",
    "    record_df = player_df.loc[(player_df['inning']==innings)&(player_df['batsman_runs']==run)]\n",
    "    over_df = record_df[['over']].value_counts().sort_index()\n",
    "    return over_df"
   ]
  },
  {
   "cell_type": "code",
   "execution_count": 83,
   "id": "3ed12229",
   "metadata": {},
   "outputs": [],
   "source": [
    "kohli = get_batsman_info('V Kohli', 6, 1)"
   ]
  },
  {
   "cell_type": "code",
   "execution_count": 84,
   "id": "8729b689",
   "metadata": {
    "collapsed": true
   },
   "outputs": [
    {
     "data": {
      "text/plain": [
       "over\n",
       "1        3\n",
       "2        2\n",
       "3        4\n",
       "4        3\n",
       "5        3\n",
       "7        2\n",
       "8        2\n",
       "9        5\n",
       "10       7\n",
       "11       3\n",
       "12       9\n",
       "13       6\n",
       "14       4\n",
       "15       5\n",
       "16       5\n",
       "17      10\n",
       "18      13\n",
       "19      10\n",
       "20      10\n",
       "dtype: int64"
      ]
     },
     "execution_count": 84,
     "metadata": {},
     "output_type": "execute_result"
    }
   ],
   "source": [
    "kohli"
   ]
  },
  {
   "cell_type": "code",
   "execution_count": 116,
   "id": "1b4c58c9",
   "metadata": {},
   "outputs": [],
   "source": [
    "class Player_profile():\n",
    "    def __init__(self, player):\n",
    "        self.player_df = deliveries_df[deliveries_df['batsman']==player]\n",
    "        \n",
    "    def get_batsman_info(self, run, innings):\n",
    "        \n",
    "        self.record_df = self.player_df.loc[(self.player_df['inning']==innings)&(self.player_df['batsman_runs']==run)]\n",
    "        self.over_df = self.record_df[['over']].value_counts().sort_index()\n",
    "        return self.over_df"
   ]
  },
  {
   "cell_type": "code",
   "execution_count": 117,
   "id": "1a263c4d",
   "metadata": {},
   "outputs": [],
   "source": [
    "gayle = Player_profile('CH Gayle')"
   ]
  },
  {
   "cell_type": "code",
   "execution_count": 118,
   "id": "51c925ba",
   "metadata": {},
   "outputs": [],
   "source": [
    "gayle6 = gayle.get_batsman_info(6, 1)"
   ]
  },
  {
   "cell_type": "code",
   "execution_count": 120,
   "id": "1efdc741",
   "metadata": {},
   "outputs": [
    {
     "data": {
      "text/plain": [
       "over\n",
       "1        8\n",
       "2        8\n",
       "3       12\n",
       "4       10\n",
       "5       17\n",
       "6       12\n",
       "7        8\n",
       "8       11\n",
       "9       14\n",
       "10       9\n",
       "11      11\n",
       "12       8\n",
       "13      12\n",
       "14      16\n",
       "15       9\n",
       "16       7\n",
       "17       5\n",
       "18       4\n",
       "19       2\n",
       "20       3\n",
       "dtype: int64"
      ]
     },
     "execution_count": 120,
     "metadata": {},
     "output_type": "execute_result"
    }
   ],
   "source": [
    "gayle6"
   ]
  },
  {
   "cell_type": "code",
   "execution_count": 25,
   "id": "791f9a15",
   "metadata": {},
   "outputs": [],
   "source": [
    "\n",
    "# df = sharma6b_over_df\n",
    " \n",
    "# # fare v / s class horizontal barplot\n",
    "# sns.barplot(x = 'over', y = 'total_runs', hue = 'inning', data = df)\n",
    " \n",
    "# # Show the plot\n",
    "# plt.show()"
   ]
  },
  {
   "cell_type": "code",
   "execution_count": 26,
   "id": "505bb8df",
   "metadata": {},
   "outputs": [],
   "source": [
    "# sharma_df = deliveries_df.loc[(deliveries_df['batsman']=='RG Sharma') &(deliveries_df['batsman_runs']==6)] # 6 data for R Sharma\n",
    "# sharma_main_df = sharma_df[['bowling_team', 'over', 'ball', 'bowler']] # Filtered 6 data for Sharma\n",
    "# sharma_over_df = sharma_main_df[['over']].value_counts() # number of 6's hit per over by Sharma"
   ]
  },
  {
   "cell_type": "code",
   "execution_count": 27,
   "id": "a16ae5e5",
   "metadata": {},
   "outputs": [],
   "source": [
    "# gayle6a_over_df = gayle6a_over_df.sort_index()\n",
    "\n",
    "# # ax = gayle6a_over_df.plot(kind='barh')\n",
    "# # ax\n",
    "\n",
    "# sns.barplot(data = gayle6a_over_df, x=gayle6a_over_df.index, y=gayle6a_over_df.values)\n",
    "\n",
    "# # plt.figure()\n",
    "# # sns.barplot(gayle6a_over_df.index, gayle6a_over_df.values, alpha=0.8)\n",
    "# # plt.title('Starbucks in top 10 cities in the World')\n",
    "# # plt.ylabel('Number of Occurrences', fontsize=12)\n",
    "# # plt.xlabel('city', fontsize=12)\n",
    "# # plt.show()"
   ]
  },
  {
   "cell_type": "code",
   "execution_count": 28,
   "id": "375e9440",
   "metadata": {},
   "outputs": [],
   "source": [
    "# kohli = kohli6_main_df[['over']].value_counts().sort_index()\n",
    "# sns.barplot(kohli)"
   ]
  },
  {
   "cell_type": "markdown",
   "id": "b2b2d9ba",
   "metadata": {},
   "source": [
    "# Data Preparation and Cleaning"
   ]
  },
  {
   "cell_type": "code",
   "execution_count": null,
   "id": "4381bcb1",
   "metadata": {},
   "outputs": [],
   "source": []
  },
  {
   "cell_type": "markdown",
   "id": "2085da22",
   "metadata": {},
   "source": [
    "# Exploratory Analysis and Visualization"
   ]
  },
  {
   "cell_type": "code",
   "execution_count": null,
   "id": "e8b6818d",
   "metadata": {},
   "outputs": [],
   "source": []
  },
  {
   "cell_type": "markdown",
   "id": "0ec14804",
   "metadata": {},
   "source": [
    "# Questions and Answers"
   ]
  },
  {
   "cell_type": "code",
   "execution_count": null,
   "id": "83072a8f",
   "metadata": {},
   "outputs": [],
   "source": []
  },
  {
   "cell_type": "markdown",
   "id": "f7773ce4",
   "metadata": {},
   "source": [
    "# Infrences and Conclusions"
   ]
  },
  {
   "cell_type": "code",
   "execution_count": null,
   "id": "12af4c4b",
   "metadata": {},
   "outputs": [],
   "source": []
  },
  {
   "cell_type": "markdown",
   "id": "40b52772",
   "metadata": {},
   "source": [
    "# Refrences and Future Work"
   ]
  },
  {
   "cell_type": "code",
   "execution_count": null,
   "id": "bcb387e4",
   "metadata": {},
   "outputs": [],
   "source": []
  }
 ],
 "metadata": {
  "kernelspec": {
   "display_name": "Python 3",
   "language": "python",
   "name": "python3"
  },
  "language_info": {
   "codemirror_mode": {
    "name": "ipython",
    "version": 3
   },
   "file_extension": ".py",
   "mimetype": "text/x-python",
   "name": "python",
   "nbconvert_exporter": "python",
   "pygments_lexer": "ipython3",
   "version": "3.8.8"
  }
 },
 "nbformat": 4,
 "nbformat_minor": 5
}
